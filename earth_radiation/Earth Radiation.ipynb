{
 "cells": [
  {
   "cell_type": "markdown",
   "metadata": {},
   "source": [
    "Pow - sphere surface = 4 * pi * R^2\n",
    "Albedo - ratio reflected energy to incoming enery \n",
    "\n",
    "Solar switching consant for both points, two cases increasering as and deacresing albido as:\n",
    "as 0.19 -> 0.65\n",
    "\n",
    "Ts < (Tc = (-10C) critical temp)\n",
    "\n",
    "#1 Calculation for no atmosferic,\n",
    "#2 amosfere and compare\n",
    "#3 solar constant scenarios, glaciations mechanism\n",
    "\n",
    "plot solar range vs mean temp"
   ]
  },
  {
   "cell_type": "code",
   "execution_count": 63,
   "metadata": {},
   "outputs": [],
   "source": [
    "import math\n",
    "import numpy as np\n",
    "from scipy.optimize import fsolve\n",
    "import matplotlib.pyplot as plt\n",
    "import seaborn"
   ]
  },
  {
   "cell_type": "code",
   "execution_count": 55,
   "metadata": {},
   "outputs": [],
   "source": [
    "A=0.3\n",
    "S=1366 #W/m2 \n",
    "sigma=5.67*1e-8 #W/m2K4\n",
    "R  = 6.371*1e3 #m\n",
    "T = 255.9 #K\n",
    "\n",
    "#short wave radiation\n",
    "t_a = 0.53\n",
    "a_s = 0.11\n",
    "a_a = 0.3\n",
    "#long wage radiation\n",
    "t_A = 0.6\n",
    "a_A = 0.31\n",
    "\n",
    "c = 2.7 #Wm-2K-1"
   ]
  },
  {
   "cell_type": "code",
   "execution_count": 56,
   "metadata": {},
   "outputs": [
    {
     "name": "stdout",
     "output_type": "stream",
     "text": [
      "-5.013195540595402e+18\n",
      "254.81584054796193\n"
     ]
    }
   ],
   "source": [
    "# without atmosphere\n",
    "Powz = 4*math.pi*R**4 \n",
    "Psi = S*Powz/4*(1-A)\n",
    "Pz = sigma*T**4*Powz\n",
    "print(Powz - Pz)\n",
    "T = (S*(1-A)/(4*sigma))**(.25)\n",
    "print(T)"
   ]
  },
  {
   "cell_type": "code",
   "execution_count": 77,
   "metadata": {},
   "outputs": [],
   "source": [
    "def model(t):\n",
    "    T_a = t[0]\n",
    "    T_s = t[1]\n",
    "    \n",
    "    F = np.zeros((2,))\n",
    "    a0 = (-1) * t_a * (1 - a_s) * s / 4\n",
    "    a1 = sigma * (1 - a_A)\n",
    "    F[0] = a0 + c*(T_s-T_a) + a1 * T_s**4 -sigma * T_a**4\n",
    "    b0 = (-1) * (1 - a_a - t_a + a_s * t_a) * s / 4\n",
    "    b1 = sigma * (1-t_A-a_A)\n",
    "    F[1] = b0 - c * (T_s - T_a) - b1 * T_s**4 + 2 * sigma * T_a**4\n",
    "    \n",
    "    return F"
   ]
  },
  {
   "cell_type": "code",
   "execution_count": 80,
   "metadata": {},
   "outputs": [
    {
     "name": "stdout",
     "output_type": "stream",
     "text": [
      "216.5961410970476\n"
     ]
    }
   ],
   "source": [
    "s = S\n",
    "print(np.mean(fsolve(model, [0,0])))"
   ]
  },
  {
   "cell_type": "code",
   "execution_count": 76,
   "metadata": {},
   "outputs": [],
   "source": [
    "S_range = S * np.arange(0.8, 1.2, 0.01)"
   ]
  },
  {
   "cell_type": "code",
   "execution_count": 78,
   "metadata": {},
   "outputs": [],
   "source": [
    "T2 = []\n",
    "for s in S_range:\n",
    "    T2.append(np.mean(fsolve(model, [0,0])))"
   ]
  },
  {
   "cell_type": "code",
   "execution_count": 79,
   "metadata": {},
   "outputs": [
    {
     "data": {
      "text/plain": [
       "<matplotlib.axes._subplots.AxesSubplot at 0x7f9b000646d8>"
      ]
     },
     "execution_count": 79,
     "metadata": {},
     "output_type": "execute_result"
    },
    {
     "data": {
      "image/png": "[encoded data removed]",
      "text/plain": [
       "<Figure size 432x288 with 1 Axes>"
      ]
     },
     "metadata": {
      "needs_background": "light"
     },
     "output_type": "display_data"
    }
   ],
   "source": [
    "seaborn.scatterplot(S_range, T2)"
   ]
  },
  {
   "cell_type": "code",
   "execution_count": null,
   "metadata": {},
   "outputs": [],
   "source": [
    "s = S\n"
   ]
  }
 ],
 "metadata": {
  "kernelspec": {
   "display_name": "Python 3",
   "language": "python",
   "name": "python3"
  },
  "language_info": {
   "codemirror_mode": {
    "name": "ipython",
    "version": 3
   },
   "file_extension": ".py",
   "mimetype": "text/x-python",
   "name": "python",
   "nbconvert_exporter": "python",
   "pygments_lexer": "ipython3",
   "version": "3.7.1"
  }
 },
 "nbformat": 4,
 "nbformat_minor": 2
}
