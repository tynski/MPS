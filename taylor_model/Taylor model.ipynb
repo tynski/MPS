{
 "cells": [
  {
   "cell_type": "markdown",
   "metadata": {},
   "source": [
    "\n",
    "2nd advection\n",
    "3rd dispersion transport\n",
    "\n",
    "boundary condition right side-von Neumanncondition\n",
    "water inflowing = water outflowing\n",
    "\n",
    "c0 = m/v = m / (w * d* dx)\n",
    "\n",
    "first boundary condition C on the borders is alway 0\n",
    "\n",
    "mass conservation law(if the total mass of the tracer present in the river is constant in time)"
   ]
  },
  {
   "cell_type": "code",
   "execution_count": 1,
   "metadata": {},
   "outputs": [],
   "source": [
    "import numpy as np\n",
    "import seaborn as sns\n",
    "import matplotlib.pyplot as plt"
   ]
  },
  {
   "cell_type": "code",
   "execution_count": 32,
   "metadata": {},
   "outputs": [
    {
     "data": {
      "text/plain": [
       "'nx = 1000, nt = 10000'"
      ]
     },
     "execution_count": 32,
     "metadata": {},
     "output_type": "execute_result"
    }
   ],
   "source": [
    "#Parameters of the physical object:\n",
    "l = 100\n",
    "w = 5 \n",
    "d = 1 #depth\n",
    "\n",
    "mean_flow_velocity = 0.1\n",
    "dispersion_coefficient = 0.01\n",
    "injection_point = 10 #location of the injection point\n",
    "measurement_point = 90 #location of the measurement point\n",
    "amount_of_injected_tracer = 1 #amount of injected tracer\n",
    "\n",
    "#input\n",
    "dx = 1e-1\n",
    "dt = 1e-1\n",
    "t_sim = 1000\n",
    "nx = int(l/dx)\n",
    "nt = int(t_sim/dt)\n",
    "\n",
    "f'nx = {nx}, nt = {nt}'\n"
   ]
  },
  {
   "cell_type": "code",
   "execution_count": 33,
   "metadata": {},
   "outputs": [
    {
     "data": {
      "text/plain": [
       "'ca = 0.10000000000000002, cd = 0.09999999999999998'"
      ]
     },
     "execution_count": 33,
     "metadata": {},
     "output_type": "execute_result"
    }
   ],
   "source": [
    "ca = mean_flow_velocity * dt / dx\n",
    "cd = dispersion_coefficient * dt / np.square(dx)\n",
    "f'ca = {ca}, cd = {cd}'"
   ]
  },
  {
   "cell_type": "code",
   "execution_count": 34,
   "metadata": {},
   "outputs": [],
   "source": [
    "def quickest(c, c_r, c_l, c_ll):\n",
    "    a0 = (cd * (1 - ca) - (ca / 6) * (np.square(ca) - 3 * ca + 2))\n",
    "    a1 = (cd * (2 - 3 * ca) - (ca / 2) * (np.square(ca) - 2 * ca - 1))\n",
    "    a2 = (cd * (1 - 3 * ca) - (ca / 2) * (np.square(ca) - ca - 2))\n",
    "    a3 = (cd * ca + (ca / 6) * (np.square(ca) - 1))\n",
    "    c_next = c + a0 * c_r - a1 * c + a2 * c_l + a3 * c_ll \n",
    "    return c_next"
   ]
  },
  {
   "cell_type": "code",
   "execution_count": 35,
   "metadata": {
    "scrolled": true
   },
   "outputs": [],
   "source": [
    "#initial condition\n",
    "#m- initial concentration in the injection point\n",
    "c = np.zeros(nx)\n",
    "m = amount_of_injected_tracer / (w * d* dx)\n",
    "c[int(injection_point / dx)] = m"
   ]
  },
  {
   "cell_type": "code",
   "execution_count": 36,
   "metadata": {},
   "outputs": [],
   "source": [
    "def make_plot(c, x):\n",
    "    sns.lineplot(x, c)\n",
    "    plt.xlabel('spatial')\n",
    "    plt.ylabel('C')\n",
    "    plt.show()"
   ]
  },
  {
   "cell_type": "code",
   "execution_count": 37,
   "metadata": {},
   "outputs": [
    {
     "data": {
      "image/png": "[encoded data removed]",
      "text/plain": [
       "<Figure size 432x288 with 1 Axes>"
      ]
     },
     "metadata": {
      "needs_background": "light"
     },
     "output_type": "display_data"
    },
    {
     "data": {
      "image/png": "[encoded data removed]",
      "text/plain": [
       "<Figure size 432x288 with 1 Axes>"
      ]
     },
     "metadata": {
      "needs_background": "light"
     },
     "output_type": "display_data"
    }
   ],
   "source": [
    "xm = int(measurement_point / dx)\n",
    "flow_sum = 0\n",
    "x = np.arange(0, nx)\n",
    "t = np.arange(0, nt)\n",
    "measure_c = []\n",
    "for i in t:\n",
    "    for j in range(2, nx - 2):\n",
    "        c[j] = quickest(c[j], c[j+1], c[j-1], c[j-2])\n",
    "    measure_c.append(c[xm])\n",
    "    c[nx - 1] = c[nx - 2] #right side-von Neumanncondition\n",
    "    if i == 10 or i == nt - 1:\n",
    "        make_plot(c, x)"
   ]
  },
  {
   "cell_type": "code",
   "execution_count": 38,
   "metadata": {},
   "outputs": [
    {
     "data": {
      "image/png": "[encoded data removed]",
      "text/plain": [
       "<Figure size 432x288 with 1 Axes>"
      ]
     },
     "metadata": {
      "needs_background": "light"
     },
     "output_type": "display_data"
    }
   ],
   "source": [
    "sns.lineplot(t, measure_c)\n",
    "plt.xlabel('time')\n",
    "plt.ylabel('C')\n",
    "plt.show()"
   ]
  },
  {
   "cell_type": "code",
   "execution_count": 24,
   "metadata": {},
   "outputs": [
    {
     "data": {
      "text/plain": [
       "0.0"
      ]
     },
     "execution_count": 24,
     "metadata": {},
     "output_type": "execute_result"
    }
   ],
   "source": [
    "sum(measure_c)"
   ]
  },
  {
   "cell_type": "code",
   "execution_count": null,
   "metadata": {},
   "outputs": [],
   "source": []
  }
 ],
 "metadata": {
  "kernelspec": {
   "display_name": "Python 3",
   "language": "python",
   "name": "python3"
  },
  "language_info": {
   "codemirror_mode": {
    "name": "ipython",
    "version": 3
   },
   "file_extension": ".py",
   "mimetype": "text/x-python",
   "name": "python",
   "nbconvert_exporter": "python",
   "pygments_lexer": "ipython3",
   "version": "3.7.1"
  }
 },
 "nbformat": 4,
 "nbformat_minor": 2
}
