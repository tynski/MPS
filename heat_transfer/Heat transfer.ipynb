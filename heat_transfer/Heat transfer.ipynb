{
 "cells": [
  {
   "cell_type": "code",
   "execution_count": 189,
   "metadata": {},
   "outputs": [],
   "source": [
    "import numpy as np\n",
    "import matplotlib.pyplot as plt\n",
    "import time\n",
    "import seaborn as sns\n",
    "\n",
    "# set size for plots\n",
    "plt.rcParams['figure.figsize'] = (14.0, 8.0)"
   ]
  },
  {
   "cell_type": "markdown",
   "metadata": {},
   "source": [
    "notes\n",
    "initial temp = room\n",
    "x, y - spatial dimension\n",
    "t - time\n",
    "T - Kalwins as unit (as i want)\n",
    "K - therma conductivity\n",
    "cw - specific heat\n",
    "Heater contact = 100 C\n",
    "\n",
    "condition type 2\n",
    "derivate in insolted part is 0\n",
    "\n",
    "The whole plate should have the same temp. Sould higher than initial. \n",
    "\n",
    "Results\n",
    "Verify simulation with theory for every metal. Compare them.\n",
    "\n",
    "Size of plat 10x10\n",
    "heater 2x2\n",
    "h = 0.005 m\n",
    "boundary condition 1\n",
    "T1 = 100\n",
    "T2 = 10\n",
    "boundry condition 2\n",
    "P = 100\n",
    "th = 10\n",
    "B = edge is isolated - boundary particle value is the same as pre-boundary\n",
    "\n",
    "Don't consider boundar particles in equation, they are formulated in boundary condition\n",
    "\n",
    "Only first boundary condition\n",
    "Steady state of three matels, compare them\n",
    "Numerical stability\n",
    "Demonstrate temparature distribution"
   ]
  },
  {
   "cell_type": "code",
   "execution_count": 194,
   "metadata": {},
   "outputs": [],
   "source": [
    "# intput data\n",
    "A = 0.1\n",
    "B = 0.02\n",
    "h = 0.005\n",
    "\n",
    "#N =  number of paritcles\n",
    "nx = ny = 5\n",
    "dx = A/nx\n",
    "dy = A/ny\n",
    "\n",
    "#time grid\n",
    "t_sim = 100                #s TIME \n",
    "dt =  1e-3                 #s Time step\n",
    "nt  = int(t_sim/dt)       #Number of time step\n",
    "\n",
    "# aluminia\n",
    "K = 237 \n",
    "cw = 900\n",
    "p = 2700\n",
    "# 1 boundary condition\n",
    "T1 = 100\n",
    "T2 = 10"
   ]
  },
  {
   "cell_type": "code",
   "execution_count": 195,
   "metadata": {},
   "outputs": [
    {
     "name": "stdout",
     "output_type": "stream",
     "text": [
      "0.02\n"
     ]
    }
   ],
   "source": [
    "# first boundary condition\n",
    "T = np.ones((nx, ny)) * T2\n",
    "up_shift = int(0.5*nx - 0.5*B/dx)\n",
    "down_shift = int(0.5*ny + 0.5*B/dx)\n",
    "print((down_shift - up_shift) * dx)\n",
    "T[up_shift:down_shift,up_shift:down_shift] = 100"
   ]
  },
  {
   "cell_type": "code",
   "execution_count": 196,
   "metadata": {},
   "outputs": [
    {
     "data": {
      "text/plain": [
       "<matplotlib.axes._subplots.AxesSubplot at 0x7f680bbb6358>"
      ]
     },
     "execution_count": 196,
     "metadata": {},
     "output_type": "execute_result"
    },
    {
     "data": {
      "image/png": "[encoded data removed]",
      "text/plain": [
       "<Figure size 1008x576 with 2 Axes>"
      ]
     },
     "metadata": {
      "needs_background": "light"
     },
     "output_type": "display_data"
    }
   ],
   "source": [
    "sns.heatmap(T, cmap=sns.color_palette(\"RdBu_r\", 10))"
   ]
  },
  {
   "cell_type": "code",
   "execution_count": 201,
   "metadata": {},
   "outputs": [
    {
     "data": {
      "text/plain": [
       "<matplotlib.axes._subplots.AxesSubplot at 0x7f680ac07be0>"
      ]
     },
     "execution_count": 201,
     "metadata": {},
     "output_type": "execute_result"
    },
    {
     "data": {
      "image/png": "[encoded data removed]",
      "text/plain": [
       "<Figure size 1008x576 with 2 Axes>"
      ]
     },
     "metadata": {
      "needs_background": "light"
     },
     "output_type": "display_data"
    }
   ],
   "source": [
    "for n in range(10000):\n",
    "    for i in range(1, nx-1):\n",
    "        for j in range(1, ny-1):\n",
    "            T_pref = T[i,j]\n",
    "            dT1_num = T[i+1, j] - 2 * T[i, j] + T[i-1, j]\n",
    "            dT2_num = T[i, j+1] - 2 * T[i, j] + T[i, j-1]\n",
    "            const = (K * dt)/(cw * p)\n",
    "            T[i,j] = T_pref + const / (dx**2) * dT1_num + const / (dy**2) *dT2_num\n",
    "\"\"\"    \n",
    "fig = plt.figure()\n",
    "ax = fig.gca(projection='3d')\n",
    "ax.set_zlim(10, 100)\n",
    "ax.zaxis.set_major_locator(LinearLocator(10))\n",
    "ax.zaxis.set_major_formatter(FormatStrFormatter('%.02f'))\n",
    "fig.colorbar(surf, shrink=0.5, aspect=5)\n",
    "surf = ax.plot_surface(X, Y, T, rstride=1, cstride=1, cmap=cm.coolwarm, linewidth=0, antialiased=False, vmin=0, vmax=100)\n",
    "plt.show()\n",
    "\"\"\"\n",
    "sns.heatmap(T, cmap=sns.color_palette(\"RdBu_r\", 10))"
   ]
  },
  {
   "cell_type": "code",
   "execution_count": 200,
   "metadata": {},
   "outputs": [
    {
     "name": "stdout",
     "output_type": "stream",
     "text": [
      "[[10.         10.         10.         10.         10.        ]\n",
      " [10.         10.47111027 10.66677973 10.47096889 10.        ]\n",
      " [10.         10.66677973 10.94371732 10.6665792  10.        ]\n",
      " [10.         10.47096889 10.6665792  10.47082755 10.        ]\n",
      " [10.         10.         10.         10.         10.        ]]\n"
     ]
    }
   ],
   "source": [
    "print(T)"
   ]
  },
  {
   "cell_type": "code",
   "execution_count": null,
   "metadata": {},
   "outputs": [],
   "source": []
  }
 ],
 "metadata": {
  "kernelspec": {
   "display_name": "Python 3",
   "language": "python",
   "name": "python3"
  },
  "language_info": {
   "codemirror_mode": {
    "name": "ipython",
    "version": 3
   },
   "file_extension": ".py",
   "mimetype": "text/x-python",
   "name": "python",
   "nbconvert_exporter": "python",
   "pygments_lexer": "ipython3",
   "version": "3.7.1"
  }
 },
 "nbformat": 4,
 "nbformat_minor": 2
}
